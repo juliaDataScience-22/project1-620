{
 "cells": [
  {
   "cell_type": "markdown",
   "metadata": {},
   "source": [
    "Original file is located at\n",
    "    https://colab.research.google.com/drive/1bbnd8zMkBpTnOa3CT-oIAARMFnlpSo4E\n",
    "\n",
    "Identify a large 2-node network dataset—you can start with a dataset in a repository.  \n",
    "    Your data should meet the criteria that it consists of ties between and not within two (or more) distinct groups.\n",
    "    Reduce the size of the network using a method such as the island method described in chapter 4 of social network analysis.\n",
    "    What can you infer about each of the distinct groups?\n",
    "\n",
    "You may work in a small group on the project.\n",
    "\n",
    "Your code and analysis should be delivered in an IPython Notebook by end of day Sunday."
   ]
  },
  {
   "cell_type": "code",
   "execution_count": 1,
   "metadata": {},
   "outputs": [
    {
     "name": "stdout",
     "output_type": "stream",
     "text": [
      "   ID   AGE  SEX  INF_ANAM  STENOK_AN  FK_STENOK  IBS_POST  IBS_NASL   GB  \\\n",
      "0   1  77.0    1       2.0        1.0        1.0       2.0       NaN  3.0   \n",
      "1   2  55.0    1       1.0        0.0        0.0       0.0       0.0  0.0   \n",
      "2   3  52.0    1       0.0        0.0        0.0       2.0       NaN  2.0   \n",
      "3   4  68.0    0       0.0        0.0        0.0       2.0       NaN  2.0   \n",
      "4   5  60.0    1       0.0        0.0        0.0       2.0       NaN  3.0   \n",
      "\n",
      "   SIM_GIPERT  ...  JELUD_TAH  FIBR_JELUD  A_V_BLOK  OTEK_LANC  RAZRIV  \\\n",
      "0         0.0  ...          0           0         0          0       0   \n",
      "1         0.0  ...          0           0         0          0       0   \n",
      "2         0.0  ...          0           0         0          0       0   \n",
      "3         0.0  ...          0           0         0          0       0   \n",
      "4         0.0  ...          0           0         0          0       0   \n",
      "\n",
      "   DRESSLER  ZSN  REC_IM  P_IM_STEN  LET_IS  \n",
      "0         0    0       0          0       0  \n",
      "1         0    0       0          0       0  \n",
      "2         0    0       0          0       0  \n",
      "3         0    1       0          0       0  \n",
      "4         0    0       0          0       0  \n",
      "\n",
      "[5 rows x 124 columns]\n"
     ]
    }
   ],
   "source": [
    "import pandas as pd\n",
    "\n",
    "url = 'https://raw.githubusercontent.com/juliaDataScience-22/project1-620/main/data-MI.csv'\n",
    "\n",
    "try:\n",
    "    data = pd.read_csv(url, delimiter=',', na_values=['NaN', 'null', ''], on_bad_lines='skip')\n",
    "    print(data.head())\n",
    "except pd.errors.ParserError as e:\n",
    "    print(f\"ParserError: {e}\")"
   ]
  },
  {
   "cell_type": "markdown",
   "metadata": {},
   "source": [
    "Need to reduce the size of the network. Determine which groups to use for this assignment. Variables I included: gender, age, years without hypertension (high blood pressure), time from heart attack to hospital, and lethal outcome."
   ]
  },
  {
   "cell_type": "code",
   "execution_count": 2,
   "metadata": {},
   "outputs": [
    {
     "ename": "NameError",
     "evalue": "name 'nx' is not defined",
     "output_type": "error",
     "traceback": [
      "\u001b[0;31m---------------------------------------------------------------------------\u001b[0m",
      "\u001b[0;31mNameError\u001b[0m                                 Traceback (most recent call last)",
      "Cell \u001b[0;32mIn[2], line 4\u001b[0m\n\u001b[1;32m      1\u001b[0m \u001b[38;5;66;03m# Assuming 'data' is your DataFrame containing user information\u001b[39;00m\n\u001b[1;32m      2\u001b[0m \n\u001b[1;32m      3\u001b[0m \u001b[38;5;66;03m# Create a graph from the data\u001b[39;00m\n\u001b[0;32m----> 4\u001b[0m g \u001b[38;5;241m=\u001b[39m \u001b[43mnx\u001b[49m\u001b[38;5;241m.\u001b[39mGraph()\n\u001b[1;32m      6\u001b[0m \u001b[38;5;66;03m# Add nodes (users) with attributes\u001b[39;00m\n\u001b[1;32m      7\u001b[0m \u001b[38;5;28;01mfor\u001b[39;00m index, row \u001b[38;5;129;01min\u001b[39;00m data\u001b[38;5;241m.\u001b[39miterrows():\n",
      "\u001b[0;31mNameError\u001b[0m: name 'nx' is not defined"
     ]
    }
   ],
   "source": [
    "import networkx as nx\n",
    "import matplotlib.pyplot as plt\n",
    "\n",
    "# Assuming 'data' is your DataFrame containing user information\n",
    "\n",
    "# Create a graph from the data\n",
    "g = nx.Graph()\n",
    "\n",
    "# Add nodes (users) with attributes\n",
    "for index, row in data.iterrows():\n",
    "    g.add_node(row['ID'], gender=row['SEX'], age=row['AGE'], years_no_hypertension=row['DLIT_AG'], time_to_hospital=row['TIME_B_S'], lethal_outcome=row['LET_IS'])\n",
    "\n",
    "# Add edges (hypothetical connections) between users with the same age\n",
    "for node1 in g.nodes(data=True):\n",
    "    for node2 in g.nodes(data=True):\n",
    "        if node1 != node2 and node1[1]['age'] == node2[1]['age']:\n",
    "            g.add_edge(node1[0], node2[0])\n",
    "\n",
    "# Draw the graph\n",
    "pos = nx.spring_layout(g)  # Use 'g' instead of 'G'\n",
    "nx.draw(g, pos, with_labels=True, node_color='skyblue', node_size=500, font_size=10, font_color='black')\n",
    "\n",
    "# Display node attributes as labels\n",
    "labels = {node: f\"{node}\\nGender: {data['gender']}\\nAge: {data['age']}\" for node, data in g.nodes(data=True)}\n",
    "nx.draw_networkx_labels(g, pos, labels=labels, font_color='red')\n",
    "\n",
    "plt.show()"
   ]
  }
 ],
 "metadata": {
  "kernelspec": {
   "display_name": "Python 3",
   "language": "python",
   "name": "python3"
  },
  "language_info": {
   "codemirror_mode": {
    "name": "ipython",
    "version": 3
   },
   "file_extension": ".py",
   "mimetype": "text/x-python",
   "name": "python",
   "nbconvert_exporter": "python",
   "pygments_lexer": "ipython3",
   "version": "3.12.2"
  }
 },
 "nbformat": 4,
 "nbformat_minor": 2
}
